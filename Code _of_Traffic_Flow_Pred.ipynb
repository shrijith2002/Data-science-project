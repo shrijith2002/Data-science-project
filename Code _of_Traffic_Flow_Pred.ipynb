{
  "cells": [
    {
      "cell_type": "markdown",
      "metadata": {
        "id": "AtLBlRbTP4Gb"
      },
      "source": [
        "Install Required Libraries"
      ]
    },
    {
      "cell_type": "code",
      "execution_count": null,
      "metadata": {
        "colab": {
          "base_uri": "https://localhost:8080/"
        },
        "id": "DQrUHRgqPwjz",
        "outputId": "d3eb5c64-6a46-4c49-9239-90e100a19aa9"
      },
      "outputs": [
        {
          "name": "stdout",
          "output_type": "stream",
          "text": [
            "Requirement already satisfied: ucimlrepo in /usr/local/lib/python3.11/dist-packages (0.0.7)\n",
            "Requirement already satisfied: pandas in /usr/local/lib/python3.11/dist-packages (2.2.2)\n",
            "Requirement already satisfied: numpy in /usr/local/lib/python3.11/dist-packages (2.0.2)\n",
            "Requirement already satisfied: matplotlib in /usr/local/lib/python3.11/dist-packages (3.10.0)\n",
            "Requirement already satisfied: seaborn in /usr/local/lib/python3.11/dist-packages (0.13.2)\n",
            "Requirement already satisfied: scikit-learn in /usr/local/lib/python3.11/dist-packages (1.6.1)\n",
            "Requirement already satisfied: tensorflow in /usr/local/lib/python3.11/dist-packages (2.18.0)\n",
            "Requirement already satisfied: xgboost in /usr/local/lib/python3.11/dist-packages (2.1.4)\n",
            "Requirement already satisfied: certifi>=2020.12.5 in /usr/local/lib/python3.11/dist-packages (from ucimlrepo) (2025.1.31)\n",
            "Requirement already satisfied: python-dateutil>=2.8.2 in /usr/local/lib/python3.11/dist-packages (from pandas) (2.8.2)\n",
            "Requirement already satisfied: pytz>=2020.1 in /usr/local/lib/python3.11/dist-packages (from pandas) (2025.2)\n",
            "Requirement already satisfied: tzdata>=2022.7 in /usr/local/lib/python3.11/dist-packages (from pandas) (2025.2)\n",
            "Requirement already satisfied: contourpy>=1.0.1 in /usr/local/lib/python3.11/dist-packages (from matplotlib) (1.3.1)\n",
            "Requirement already satisfied: cycler>=0.10 in /usr/local/lib/python3.11/dist-packages (from matplotlib) (0.12.1)\n",
            "Requirement already satisfied: fonttools>=4.22.0 in /usr/local/lib/python3.11/dist-packages (from matplotlib) (4.56.0)\n",
            "Requirement already satisfied: kiwisolver>=1.3.1 in /usr/local/lib/python3.11/dist-packages (from matplotlib) (1.4.8)\n",
            "Requirement already satisfied: packaging>=20.0 in /usr/local/lib/python3.11/dist-packages (from matplotlib) (24.2)\n",
            "Requirement already satisfied: pillow>=8 in /usr/local/lib/python3.11/dist-packages (from matplotlib) (11.1.0)\n",
            "Requirement already satisfied: pyparsing>=2.3.1 in /usr/local/lib/python3.11/dist-packages (from matplotlib) (3.2.3)\n",
            "Requirement already satisfied: scipy>=1.6.0 in /usr/local/lib/python3.11/dist-packages (from scikit-learn) (1.14.1)\n",
            "Requirement already satisfied: joblib>=1.2.0 in /usr/local/lib/python3.11/dist-packages (from scikit-learn) (1.4.2)\n",
            "Requirement already satisfied: threadpoolctl>=3.1.0 in /usr/local/lib/python3.11/dist-packages (from scikit-learn) (3.6.0)\n",
            "Requirement already satisfied: absl-py>=1.0.0 in /usr/local/lib/python3.11/dist-packages (from tensorflow) (1.4.0)\n",
            "Requirement already satisfied: astunparse>=1.6.0 in /usr/local/lib/python3.11/dist-packages (from tensorflow) (1.6.3)\n",
            "Requirement already satisfied: flatbuffers>=24.3.25 in /usr/local/lib/python3.11/dist-packages (from tensorflow) (25.2.10)\n",
            "Requirement already satisfied: gast!=0.5.0,!=0.5.1,!=0.5.2,>=0.2.1 in /usr/local/lib/python3.11/dist-packages (from tensorflow) (0.6.0)\n",
            "Requirement already satisfied: google-pasta>=0.1.1 in /usr/local/lib/python3.11/dist-packages (from tensorflow) (0.2.0)\n",
            "Requirement already satisfied: libclang>=13.0.0 in /usr/local/lib/python3.11/dist-packages (from tensorflow) (18.1.1)\n",
            "Requirement already satisfied: opt-einsum>=2.3.2 in /usr/local/lib/python3.11/dist-packages (from tensorflow) (3.4.0)\n",
            "Requirement already satisfied: protobuf!=4.21.0,!=4.21.1,!=4.21.2,!=4.21.3,!=4.21.4,!=4.21.5,<6.0.0dev,>=3.20.3 in /usr/local/lib/python3.11/dist-packages (from tensorflow) (5.29.4)\n",
            "Requirement already satisfied: requests<3,>=2.21.0 in /usr/local/lib/python3.11/dist-packages (from tensorflow) (2.32.3)\n",
            "Requirement already satisfied: setuptools in /usr/local/lib/python3.11/dist-packages (from tensorflow) (75.2.0)\n",
            "Requirement already satisfied: six>=1.12.0 in /usr/local/lib/python3.11/dist-packages (from tensorflow) (1.17.0)\n",
            "Requirement already satisfied: termcolor>=1.1.0 in /usr/local/lib/python3.11/dist-packages (from tensorflow) (3.0.1)\n",
            "Requirement already satisfied: typing-extensions>=3.6.6 in /usr/local/lib/python3.11/dist-packages (from tensorflow) (4.13.0)\n",
            "Requirement already satisfied: wrapt>=1.11.0 in /usr/local/lib/python3.11/dist-packages (from tensorflow) (1.17.2)\n",
            "Requirement already satisfied: grpcio<2.0,>=1.24.3 in /usr/local/lib/python3.11/dist-packages (from tensorflow) (1.71.0)\n",
            "Requirement already satisfied: tensorboard<2.19,>=2.18 in /usr/local/lib/python3.11/dist-packages (from tensorflow) (2.18.0)\n",
            "Requirement already satisfied: keras>=3.5.0 in /usr/local/lib/python3.11/dist-packages (from tensorflow) (3.8.0)\n",
            "Requirement already satisfied: h5py>=3.11.0 in /usr/local/lib/python3.11/dist-packages (from tensorflow) (3.13.0)\n",
            "Requirement already satisfied: ml-dtypes<0.5.0,>=0.4.0 in /usr/local/lib/python3.11/dist-packages (from tensorflow) (0.4.1)\n",
            "Requirement already satisfied: tensorflow-io-gcs-filesystem>=0.23.1 in /usr/local/lib/python3.11/dist-packages (from tensorflow) (0.37.1)\n",
            "Requirement already satisfied: nvidia-nccl-cu12 in /usr/local/lib/python3.11/dist-packages (from xgboost) (2.21.5)\n",
            "Requirement already satisfied: wheel<1.0,>=0.23.0 in /usr/local/lib/python3.11/dist-packages (from astunparse>=1.6.0->tensorflow) (0.45.1)\n",
            "Requirement already satisfied: rich in /usr/local/lib/python3.11/dist-packages (from keras>=3.5.0->tensorflow) (13.9.4)\n",
            "Requirement already satisfied: namex in /usr/local/lib/python3.11/dist-packages (from keras>=3.5.0->tensorflow) (0.0.8)\n",
            "Requirement already satisfied: optree in /usr/local/lib/python3.11/dist-packages (from keras>=3.5.0->tensorflow) (0.14.1)\n",
            "Requirement already satisfied: charset-normalizer<4,>=2 in /usr/local/lib/python3.11/dist-packages (from requests<3,>=2.21.0->tensorflow) (3.4.1)\n",
            "Requirement already satisfied: idna<4,>=2.5 in /usr/local/lib/python3.11/dist-packages (from requests<3,>=2.21.0->tensorflow) (3.10)\n",
            "Requirement already satisfied: urllib3<3,>=1.21.1 in /usr/local/lib/python3.11/dist-packages (from requests<3,>=2.21.0->tensorflow) (2.3.0)\n",
            "Requirement already satisfied: markdown>=2.6.8 in /usr/local/lib/python3.11/dist-packages (from tensorboard<2.19,>=2.18->tensorflow) (3.7)\n",
            "Requirement already satisfied: tensorboard-data-server<0.8.0,>=0.7.0 in /usr/local/lib/python3.11/dist-packages (from tensorboard<2.19,>=2.18->tensorflow) (0.7.2)\n",
            "Requirement already satisfied: werkzeug>=1.0.1 in /usr/local/lib/python3.11/dist-packages (from tensorboard<2.19,>=2.18->tensorflow) (3.1.3)\n",
            "Requirement already satisfied: MarkupSafe>=2.1.1 in /usr/local/lib/python3.11/dist-packages (from werkzeug>=1.0.1->tensorboard<2.19,>=2.18->tensorflow) (3.0.2)\n",
            "Requirement already satisfied: markdown-it-py>=2.2.0 in /usr/local/lib/python3.11/dist-packages (from rich->keras>=3.5.0->tensorflow) (3.0.0)\n",
            "Requirement already satisfied: pygments<3.0.0,>=2.13.0 in /usr/local/lib/python3.11/dist-packages (from rich->keras>=3.5.0->tensorflow) (2.18.0)\n",
            "Requirement already satisfied: mdurl~=0.1 in /usr/local/lib/python3.11/dist-packages (from markdown-it-py>=2.2.0->rich->keras>=3.5.0->tensorflow) (0.1.2)\n"
          ]
        }
      ],
      "source": [
        "!pip install ucimlrepo pandas numpy matplotlib seaborn scikit-learn tensorflow xgboost"
      ]
    },
    {
      "cell_type": "markdown",
      "metadata": {
        "id": "8JTrbhVXP9if"
      },
      "source": [
        "Import Libraries"
      ]
    },
    {
      "cell_type": "code",
      "execution_count": null,
      "metadata": {
        "id": "PY88GMfxP-YC"
      },
      "outputs": [],
      "source": [
        "import pandas as pd\n",
        "import numpy as np\n",
        "import matplotlib.pyplot as plt\n",
        "import seaborn as sns\n",
        "from sklearn.model_selection import train_test_split\n",
        "from sklearn.preprocessing import StandardScaler\n",
        "from sklearn.metrics import mean_absolute_error, mean_squared_error, r2_score\n",
        "from sklearn.ensemble import RandomForestRegressor\n",
        "from xgboost import XGBRegressor\n",
        "import tensorflow as tf\n",
        "from tensorflow.keras.models import Sequential\n",
        "from tensorflow.keras.layers import Dense, LSTM, Dropout\n",
        "from ucimlrepo import fetch_ucirepo"
      ]
    },
    {
      "cell_type": "markdown",
      "metadata": {
        "id": "PP4f3oHlQErC"
      },
      "source": [
        "Fetch Dataset"
      ]
    },
    {
      "cell_type": "code",
      "execution_count": null,
      "metadata": {
        "id": "lmSISFH5QFR7"
      },
      "outputs": [],
      "source": [
        "# Fetch dataset\n",
        "metro_interstate_traffic_volume = fetch_ucirepo(id=492)\n",
        "\n",
        "# Features and target\n",
        "X = metro_interstate_traffic_volume.data.features\n",
        "y = metro_interstate_traffic_volume.data.targets\n",
        "\n",
        "# Combine features and target for EDA\n",
        "data = pd.concat([X, y], axis=1)"
      ]
    },
    {
      "cell_type": "markdown",
      "metadata": {
        "id": "7TZlIfaIQKZI"
      },
      "source": [
        "Display Dataset Information"
      ]
    },
    {
      "cell_type": "code",
      "execution_count": null,
      "metadata": {
        "colab": {
          "base_uri": "https://localhost:8080/"
        },
        "id": "WN7neqmcQLG5",
        "outputId": "af836635-7cac-40a7-8fa1-1a7ed12946ff"
      },
      "outputs": [
        {
          "name": "stdout",
          "output_type": "stream",
          "text": [
            "{'uci_id': 492, 'name': 'Metro Interstate Traffic Volume', 'repository_url': 'https://archive.ics.uci.edu/dataset/492/metro+interstate+traffic+volume', 'data_url': 'https://archive.ics.uci.edu/static/public/492/data.csv', 'abstract': 'Hourly Minneapolis-St Paul, MN traffic volume for westbound I-94. Includes weather and holiday features from 2012-2018.', 'area': 'Other', 'tasks': ['Regression'], 'characteristics': ['Multivariate', 'Sequential', 'Time-Series'], 'num_instances': 48204, 'num_features': 8, 'feature_types': ['Integer', 'Real'], 'demographics': [], 'target_col': ['traffic_volume'], 'index_col': None, 'has_missing_values': 'no', 'missing_values_symbol': None, 'year_of_dataset_creation': 2019, 'last_updated': 'Fri Mar 15 2024', 'dataset_doi': '10.24432/C5X60B', 'creators': ['John Hogue'], 'intro_paper': None, 'additional_info': {'summary': 'Hourly Interstate 94 Westbound traffic volume for MN DoT ATR station 301, roughly midway between Minneapolis and St Paul, MN. Hourly weather features and holidays included for impacts on traffic volume.', 'purpose': None, 'funded_by': None, 'instances_represent': None, 'recommended_data_splits': None, 'sensitive_data': None, 'preprocessing_description': None, 'variable_info': 'holiday                Categorical    US National holidays plus regional holiday, Minnesota State Fair\\r\\ntemp                   Numeric        Average temp in kelvin\\r\\nrain_1h                Numeric        Amount in mm of rain that occurred in the hour\\r\\nsnow_1h                Numeric        Amount in mm of snow that occurred in the hour\\r\\nclouds_all             Numeric        Percentage of cloud cover\\r\\nweather_main           Categorical    Short textual description of the current weather\\r\\nweather_description    Categorical    Longer textual description of the current weather\\r\\ndate_time              DateTime       Hour of the data collected in local CST time\\r\\ntraffic_volume         Numeric        Hourly I-94 ATR 301 reported westbound traffic volume', 'citation': None}}\n",
            "                  name     role         type demographic  \\\n",
            "0              holiday  Feature  Categorical        None   \n",
            "1                 temp  Feature   Continuous        None   \n",
            "2              rain_1h  Feature   Continuous        None   \n",
            "3              snow_1h  Feature   Continuous        None   \n",
            "4           clouds_all  Feature      Integer        None   \n",
            "5         weather_main  Feature  Categorical        None   \n",
            "6  weather_description  Feature  Categorical        None   \n",
            "7            date_time  Feature         Date        None   \n",
            "8       traffic_volume   Target      Integer        None   \n",
            "\n",
            "                                         description   units missing_values  \n",
            "0  US National holidays plus regional holiday, Mi...    None             no  \n",
            "1                             Average temp in kelvin  Kelvin             no  \n",
            "2     Amount in mm of rain that occurred in the hour      mm             no  \n",
            "3     Amount in mm of snow that occurred in the hour      mm             no  \n",
            "4                          Percentage of cloud cover       %             no  \n",
            "5   Short textual description of the current weather    None             no  \n",
            "6  Longer textual description of the current weather    None             no  \n",
            "7       Hour of the data collected in local CST time    None             no  \n",
            "8  Hourly I-94 ATR 301 reported westbound traffic...    None             no  \n"
          ]
        }
      ],
      "source": [
        "print(metro_interstate_traffic_volume.metadata)\n",
        "print(metro_interstate_traffic_volume.variables)"
      ]
    },
    {
      "cell_type": "markdown",
      "metadata": {
        "id": "xrkOBC1GQQ1g"
      },
      "source": [
        "Check for Missing Values"
      ]
    },
    {
      "cell_type": "code",
      "execution_count": null,
      "metadata": {
        "colab": {
          "base_uri": "https://localhost:8080/"
        },
        "id": "7-8i5JCVQRvM",
        "outputId": "513fb86e-4338-4861-8da7-dbbaf85404c7"
      },
      "outputs": [
        {
          "name": "stdout",
          "output_type": "stream",
          "text": [
            "holiday                48143\n",
            "temp                       0\n",
            "rain_1h                    0\n",
            "snow_1h                    0\n",
            "clouds_all                 0\n",
            "weather_main               0\n",
            "weather_description        0\n",
            "date_time                  0\n",
            "traffic_volume             0\n",
            "dtype: int64\n"
          ]
        }
      ],
      "source": [
        "print(data.isnull().sum())"
      ]
    },
    {
      "cell_type": "code",
      "execution_count": null,
      "metadata": {
        "id": "lam47AB0Tq-l"
      },
      "outputs": [],
      "source": [
        "\n",
        "data['holiday'] = data['holiday'].fillna('None')"
      ]
    },
    {
      "cell_type": "markdown",
      "metadata": {
        "id": "yqtGyJeDQW66"
      },
      "source": [
        "Handle Missing Values"
      ]
    },
    {
      "cell_type": "code",
      "execution_count": null,
      "metadata": {
        "id": "dA6UWqHmQXwk"
      },
      "outputs": [],
      "source": [
        "# Handle Missing Values for numeric columns only\n",
        "for column in data.select_dtypes(include=np.number).columns:\n",
        "    data.loc[:, column] = data[column].fillna(data[column].median())"
      ]
    },
    {
      "cell_type": "code",
      "execution_count": null,
      "metadata": {
        "colab": {
          "base_uri": "https://localhost:8080/"
        },
        "id": "NyGi4mqCTxgJ",
        "outputId": "a566a665-da54-4eb2-e9ce-2bcd13e48fcc"
      },
      "outputs": [
        {
          "name": "stdout",
          "output_type": "stream",
          "text": [
            "holiday                0\n",
            "temp                   0\n",
            "rain_1h                0\n",
            "snow_1h                0\n",
            "clouds_all             0\n",
            "weather_main           0\n",
            "weather_description    0\n",
            "date_time              0\n",
            "traffic_volume         0\n",
            "dtype: int64\n"
          ]
        }
      ],
      "source": [
        "print(data.isnull().sum())"
      ]
    },
    {
      "cell_type": "markdown",
      "metadata": {
        "id": "lvgMcS0MQ7Af"
      },
      "source": [
        "Exploratory Data Analysis (EDA) - Summary Statistics"
      ]
    },
    {
      "cell_type": "code",
      "execution_count": null,
      "metadata": {
        "colab": {
          "base_uri": "https://localhost:8080/"
        },
        "id": "4MDdUxfUQ8na",
        "outputId": "81315f58-698d-4355-b211-052706b645ff"
      },
      "outputs": [
        {
          "name": "stdout",
          "output_type": "stream",
          "text": [
            "               temp       rain_1h       snow_1h    clouds_all  traffic_volume\n",
            "count  48204.000000  48204.000000  48204.000000  48204.000000    48204.000000\n",
            "mean     281.205870      0.334264      0.000222     49.362231     3259.818355\n",
            "std       13.338232     44.789133      0.008168     39.015750     1986.860670\n",
            "min        0.000000      0.000000      0.000000      0.000000        0.000000\n",
            "25%      272.160000      0.000000      0.000000      1.000000     1193.000000\n",
            "50%      282.450000      0.000000      0.000000     64.000000     3380.000000\n",
            "75%      291.806000      0.000000      0.000000     90.000000     4933.000000\n",
            "max      310.070000   9831.300000      0.510000    100.000000     7280.000000\n"
          ]
        }
      ],
      "source": [
        "print(data.describe())"
      ]
    },
    {
      "cell_type": "markdown",
      "metadata": {
        "id": "ghwkdaWLQ-Ar"
      },
      "source": [
        "EDA - Traffic Volume Distribution"
      ]
    },
    {
      "cell_type": "code",
      "execution_count": null,
      "metadata": {
        "colab": {
          "base_uri": "https://localhost:8080/",
          "height": 564
        },
        "id": "IZAqYpoCRAUz",
        "outputId": "ed92c549-1e91-4eef-cb83-53cdb10da551"
      },
      "outputs": [
        {
          "data": {
            "image/png": "[encoded data removed]",
            "text/plain": [
              "<Figure size 1000x600 with 1 Axes>"
            ]
          },
          "metadata": {},
          "output_type": "display_data"
        }
      ],
      "source": [
        "plt.figure(figsize=(10, 6))\n",
        "sns.histplot(data['traffic_volume'], bins=50, kde=True)\n",
        "plt.title('Traffic Volume Distribution')\n",
        "plt.xlabel('Traffic Volume')\n",
        "plt.ylabel('Frequency')\n",
        "plt.show()"
      ]
    },
    {
      "cell_type": "markdown",
      "metadata": {
        "id": "2_UWgtjURGS5"
      },
      "source": [
        "EDA - Correlation Heatmap"
      ]
    },
    {
      "cell_type": "code",
      "execution_count": null,
      "metadata": {
        "colab": {
          "base_uri": "https://localhost:8080/",
          "height": 699
        },
        "id": "8b31NnhORHK6",
        "outputId": "5772f72f-3193-4348-83a9-14fc009bcc5e"
      },
      "outputs": [
        {
          "data": {
            "image/png": "[encoded data removed]",
            "text/plain": [
              "<Figure size 1200x800 with 2 Axes>"
            ]
          },
          "metadata": {},
          "output_type": "display_data"
        }
      ],
      "source": [
        "plt.figure(figsize=(12, 8))\n",
        "# Calculate correlation only for numeric columns\n",
        "numeric_data = data.select_dtypes(include=np.number)\n",
        "sns.heatmap(numeric_data.corr(), annot=True, cmap='coolwarm')\n",
        "plt.title('Correlation Heatmap')\n",
        "plt.show()"
      ]
    },
    {
      "cell_type": "markdown",
      "metadata": {
        "id": "bEgO6Z5oV9sf"
      },
      "source": [
        "As dataset seems too much imbalanced and missing values we will now clean it"
      ]
    },
    {
      "cell_type": "markdown",
      "metadata": {
        "id": "XgOT5LgKRd7M"
      },
      "source": [
        "Feature Engineering - Extract Time-Based Features"
      ]
    },
    {
      "cell_type": "code",
      "execution_count": null,
      "metadata": {
        "id": "OBHgO0fZRemX"
      },
      "outputs": [],
      "source": [
        "data['date_time'] = pd.to_datetime(data['date_time'])\n",
        "data['hour'] = data['date_time'].dt.hour\n",
        "data['day_of_week'] = data['date_time'].dt.dayofweek\n",
        "data['month'] = data['date_time'].dt.month"
      ]
    },
    {
      "cell_type": "markdown",
      "metadata": {
        "id": "bndgDbWRRijo"
      },
      "source": [
        "Feature Engineering - Encode Categorical Variables"
      ]
    },
    {
      "cell_type": "code",
      "execution_count": null,
      "metadata": {
        "id": "FQ1Hyp-PRjg_"
      },
      "outputs": [],
      "source": [
        "data = pd.get_dummies(data, columns=['weather_main', 'holiday'], drop_first=True)"
      ]
    },
    {
      "cell_type": "markdown",
      "metadata": {
        "id": "rJh1g2fzRnQD"
      },
      "source": [
        "Drop Unnecessary Columns"
      ]
    },
    {
      "cell_type": "code",
      "execution_count": null,
      "metadata": {
        "id": "vMR-dlqkRnzk"
      },
      "outputs": [],
      "source": [
        "data.drop(['date_time'], axis=1, inplace=True)"
      ]
    },
    {
      "cell_type": "markdown",
      "metadata": {
        "id": "LdFSr2vVRsWa"
      },
      "source": [
        " Split Data into Training and Testing Sets"
      ]
    },
    {
      "cell_type": "code",
      "execution_count": null,
      "metadata": {
        "id": "-8pm1ps0Rs_f"
      },
      "outputs": [],
      "source": [
        "X = data.drop('traffic_volume', axis=1)\n",
        "y = data['traffic_volume']\n",
        "X_train, X_test, y_train, y_test = train_test_split(X, y, test_size=0.2, random_state=42)"
      ]
    },
    {
      "cell_type": "markdown",
      "metadata": {
        "id": "rYFftcnhRxXj"
      },
      "source": [
        "Normalize Numerical Features"
      ]
    },
    {
      "cell_type": "code",
      "execution_count": null,
      "metadata": {
        "id": "QX0S7kGeRyE9"
      },
      "outputs": [],
      "source": [
        "metro_interstate_traffic_volume = fetch_ucirepo(id=492)\n",
        "X = metro_interstate_traffic_volume.data.features\n",
        "# The target variable 'y' should be assigned to the 'targets' attribute.\n",
        "y = metro_interstate_traffic_volume.data.targets\n",
        "data = pd.concat([X, y], axis=1)\n",
        "encoded_data = pd.get_dummies(data, columns=['weather_main', 'holiday', 'weather_description'], drop_first=True)\n",
        "encoded_data.drop(['date_time'], axis=1, inplace=True)\n",
        "#  Split Data into Training and Testing Sets\n",
        "X = encoded_data.drop('traffic_volume', axis=1)\n",
        "y = encoded_data['traffic_volume']\n",
        "X_train, X_test, y_train, y_test = train_test_split(X, y, test_size=0.2, random_state=42)\n",
        "\n",
        "# Normalize Numerical Features\n",
        "# Now apply StandardScaler\n",
        "scaler = StandardScaler()\n",
        "X_train = scaler.fit_transform(X_train)\n",
        "X_test = scaler.transform(X_test)"
      ]
    },
    {
      "cell_type": "code",
      "execution_count": null,
      "metadata": {
        "id": "G6B9ulFNVIg2"
      },
      "outputs": [],
      "source": [
        "data['holiday'] = data['holiday'].fillna('None')"
      ]
    },
    {
      "cell_type": "code",
      "execution_count": null,
      "metadata": {
        "id": "O5d5D_XAVOo8"
      },
      "outputs": [],
      "source": [
        "data['date_time'] = pd.to_datetime(data['date_time'])\n",
        "data['hour'] = data['date_time'].dt.hour\n",
        "data['day_of_week'] = data['date_time'].dt.dayofweek  # 0: Monday, 6: Sunday\n",
        "data['month'] = data['date_time'].dt.month"
      ]
    },
    {
      "cell_type": "code",
      "execution_count": null,
      "metadata": {
        "id": "QwfzqkFcVUEB"
      },
      "outputs": [],
      "source": [
        "data = pd.get_dummies(data, columns=['weather_main', 'weather_description', 'holiday'], drop_first=True)"
      ]
    },
    {
      "cell_type": "code",
      "execution_count": null,
      "metadata": {
        "colab": {
          "base_uri": "https://localhost:8080/",
          "height": 463
        },
        "id": "afjltd3sVXLX",
        "outputId": "521be682-3de9-47ea-b801-b8edbc225fc1"
      },
      "outputs": [
        {
          "data": {
            "application/vnd.google.colaboratory.intrinsic+json": {
              "type": "dataframe",
              "variable_name": "data"
            },
            "text/html": [
              "\n",
              "  <div id=\"df-2247d02b-cd28-4d55-bc9b-f424361839a5\" class=\"colab-df-container\">\n",
              "    <div>\n",
              "<style scoped>\n",
              "    .dataframe tbody tr th:only-of-type {\n",
              "        vertical-align: middle;\n",
              "    }\n",
              "\n",
              "    .dataframe tbody tr th {\n",
              "        vertical-align: top;\n",
              "    }\n",
              "\n",
              "    .dataframe thead th {\n",
              "        text-align: right;\n",
              "    }\n",
              "</style>\n",
              "<table border=\"1\" class=\"dataframe\">\n",
              "  <thead>\n",
              "    <tr style=\"text-align: right;\">\n",
              "      <th></th>\n",
              "      <th>temp</th>\n",
              "      <th>rain_1h</th>\n",
              "      <th>snow_1h</th>\n",
              "      <th>clouds_all</th>\n",
              "      <th>date_time</th>\n",
              "      <th>traffic_volume</th>\n",
              "      <th>hour</th>\n",
              "      <th>day_of_week</th>\n",
              "      <th>month</th>\n",
              "      <th>weather_main_Clouds</th>\n",
              "      <th>...</th>\n",
              "      <th>holiday_Independence Day</th>\n",
              "      <th>holiday_Labor Day</th>\n",
              "      <th>holiday_Martin Luther King Jr Day</th>\n",
              "      <th>holiday_Memorial Day</th>\n",
              "      <th>holiday_New Years Day</th>\n",
              "      <th>holiday_None</th>\n",
              "      <th>holiday_State Fair</th>\n",
              "      <th>holiday_Thanksgiving Day</th>\n",
              "      <th>holiday_Veterans Day</th>\n",
              "      <th>holiday_Washingtons Birthday</th>\n",
              "    </tr>\n",
              "  </thead>\n",
              "  <tbody>\n",
              "    <tr>\n",
              "      <th>0</th>\n",
              "      <td>288.28</td>\n",
              "      <td>0.0</td>\n",
              "      <td>0.0</td>\n",
              "      <td>40</td>\n",
              "      <td>2012-10-02 09:00:00</td>\n",
              "      <td>5545</td>\n",
              "      <td>9</td>\n",
              "      <td>1</td>\n",
              "      <td>10</td>\n",
              "      <td>True</td>\n",
              "      <td>...</td>\n",
              "      <td>False</td>\n",
              "      <td>False</td>\n",
              "      <td>False</td>\n",
              "      <td>False</td>\n",
              "      <td>False</td>\n",
              "      <td>True</td>\n",
              "      <td>False</td>\n",
              "      <td>False</td>\n",
              "      <td>False</td>\n",
              "      <td>False</td>\n",
              "    </tr>\n",
              "    <tr>\n",
              "      <th>1</th>\n",
              "      <td>289.36</td>\n",
              "      <td>0.0</td>\n",
              "      <td>0.0</td>\n",
              "      <td>75</td>\n",
              "      <td>2012-10-02 10:00:00</td>\n",
              "      <td>4516</td>\n",
              "      <td>10</td>\n",
              "      <td>1</td>\n",
              "      <td>10</td>\n",
              "      <td>True</td>\n",
              "      <td>...</td>\n",
              "      <td>False</td>\n",
              "      <td>False</td>\n",
              "      <td>False</td>\n",
              "      <td>False</td>\n",
              "      <td>False</td>\n",
              "      <td>True</td>\n",
              "      <td>False</td>\n",
              "      <td>False</td>\n",
              "      <td>False</td>\n",
              "      <td>False</td>\n",
              "    </tr>\n",
              "    <tr>\n",
              "      <th>2</th>\n",
              "      <td>289.58</td>\n",
              "      <td>0.0</td>\n",
              "      <td>0.0</td>\n",
              "      <td>90</td>\n",
              "      <td>2012-10-02 11:00:00</td>\n",
              "      <td>4767</td>\n",
              "      <td>11</td>\n",
              "      <td>1</td>\n",
              "      <td>10</td>\n",
              "      <td>True</td>\n",
              "      <td>...</td>\n",
              "      <td>False</td>\n",
              "      <td>False</td>\n",
              "      <td>False</td>\n",
              "      <td>False</td>\n",
              "      <td>False</td>\n",
              "      <td>True</td>\n",
              "      <td>False</td>\n",
              "      <td>False</td>\n",
              "      <td>False</td>\n",
              "      <td>False</td>\n",
              "    </tr>\n",
              "    <tr>\n",
              "      <th>3</th>\n",
              "      <td>290.13</td>\n",
              "      <td>0.0</td>\n",
              "      <td>0.0</td>\n",
              "      <td>90</td>\n",
              "      <td>2012-10-02 12:00:00</td>\n",
              "      <td>5026</td>\n",
              "      <td>12</td>\n",
              "      <td>1</td>\n",
              "      <td>10</td>\n",
              "      <td>True</td>\n",
              "      <td>...</td>\n",
              "      <td>False</td>\n",
              "      <td>False</td>\n",
              "      <td>False</td>\n",
              "      <td>False</td>\n",
              "      <td>False</td>\n",
              "      <td>True</td>\n",
              "      <td>False</td>\n",
              "      <td>False</td>\n",
              "      <td>False</td>\n",
              "      <td>False</td>\n",
              "    </tr>\n",
              "    <tr>\n",
              "      <th>4</th>\n",
              "      <td>291.14</td>\n",
              "      <td>0.0</td>\n",
              "      <td>0.0</td>\n",
              "      <td>75</td>\n",
              "      <td>2012-10-02 13:00:00</td>\n",
              "      <td>4918</td>\n",
              "      <td>13</td>\n",
              "      <td>1</td>\n",
              "      <td>10</td>\n",
              "      <td>True</td>\n",
              "      <td>...</td>\n",
              "      <td>False</td>\n",
              "      <td>False</td>\n",
              "      <td>False</td>\n",
              "      <td>False</td>\n",
              "      <td>False</td>\n",
              "      <td>True</td>\n",
              "      <td>False</td>\n",
              "      <td>False</td>\n",
              "      <td>False</td>\n",
              "      <td>False</td>\n",
              "    </tr>\n",
              "  </tbody>\n",
              "</table>\n",
              "<p>5 rows × 67 columns</p>\n",
              "</div>\n",
              "    <div class=\"colab-df-buttons\">\n",
              "\n",
              "  <div class=\"colab-df-container\">\n",
              "    <button class=\"colab-df-convert\" onclick=\"convertToInteractive('df-2247d02b-cd28-4d55-bc9b-f424361839a5')\"\n",
              "            title=\"Convert this dataframe to an interactive table.\"\n",
              "            style=\"display:none;\">\n",
              "\n",
              "  <svg xmlns=\"http://www.w3.org/2000/svg\" height=\"24px\" viewBox=\"0 -960 960 960\">\n",
              "    <path d=\"M120-120v-720h720v720H120Zm60-500h600v-160H180v160Zm220 220h160v-160H400v160Zm0 220h160v-160H400v160ZM180-400h160v-160H180v160Zm440 0h160v-160H620v160ZM180-180h160v-160H180v160Zm440 0h160v-160H620v160Z\"/>\n",
              "  </svg>\n",
              "    </button>\n",
              "\n",
              "  <style>\n",
              "    .colab-df-container {\n",
              "      display:flex;\n",
              "      gap: 12px;\n",
              "    }\n",
              "\n",
              "    .colab-df-convert {\n",
              "      background-color: #E8F0FE;\n",
              "      border: none;\n",
              "      border-radius: 50%;\n",
              "      cursor: pointer;\n",
              "      display: none;\n",
              "      fill: #1967D2;\n",
              "      height: 32px;\n",
              "      padding: 0 0 0 0;\n",
              "      width: 32px;\n",
              "    }\n",
              "\n",
              "    .colab-df-convert:hover {\n",
              "      background-color: #E2EBFA;\n",
              "      box-shadow: 0px 1px 2px rgba(60, 64, 67, 0.3), 0px 1px 3px 1px rgba(60, 64, 67, 0.15);\n",
              "      fill: #174EA6;\n",
              "    }\n",
              "\n",
              "    .colab-df-buttons div {\n",
              "      margin-bottom: 4px;\n",
              "    }\n",
              "\n",
              "    [theme=dark] .colab-df-convert {\n",
              "      background-color: #3B4455;\n",
              "      fill: #D2E3FC;\n",
              "    }\n",
              "\n",
              "    [theme=dark] .colab-df-convert:hover {\n",
              "      background-color: #434B5C;\n",
              "      box-shadow: 0px 1px 3px 1px rgba(0, 0, 0, 0.15);\n",
              "      filter: drop-shadow(0px 1px 2px rgba(0, 0, 0, 0.3));\n",
              "      fill: #FFFFFF;\n",
              "    }\n",
              "  </style>\n",
              "\n",
              "    <script>\n",
              "      const buttonEl =\n",
              "        document.querySelector('#df-2247d02b-cd28-4d55-bc9b-f424361839a5 button.colab-df-convert');\n",
              "      buttonEl.style.display =\n",
              "        google.colab.kernel.accessAllowed ? 'block' : 'none';\n",
              "\n",
              "      async function convertToInteractive(key) {\n",
              "        const element = document.querySelector('#df-2247d02b-cd28-4d55-bc9b-f424361839a5');\n",
              "        const dataTable =\n",
              "          await google.colab.kernel.invokeFunction('convertToInteractive',\n",
              "                                                    [key], {});\n",
              "        if (!dataTable) return;\n",
              "\n",
              "        const docLinkHtml = 'Like what you see? Visit the ' +\n",
              "          '<a target=\"_blank\" href=https://colab.research.google.com/notebooks/data_table.ipynb>data table notebook</a>'\n",
              "          + ' to learn more about interactive tables.';\n",
              "        element.innerHTML = '';\n",
              "        dataTable['output_type'] = 'display_data';\n",
              "        await google.colab.output.renderOutput(dataTable, element);\n",
              "        const docLink = document.createElement('div');\n",
              "        docLink.innerHTML = docLinkHtml;\n",
              "        element.appendChild(docLink);\n",
              "      }\n",
              "    </script>\n",
              "  </div>\n",
              "\n",
              "\n",
              "<div id=\"df-e8d10b55-e5d7-416c-b31e-81d881af173b\">\n",
              "  <button class=\"colab-df-quickchart\" onclick=\"quickchart('df-e8d10b55-e5d7-416c-b31e-81d881af173b')\"\n",
              "            title=\"Suggest charts\"\n",
              "            style=\"display:none;\">\n",
              "\n",
              "<svg xmlns=\"http://www.w3.org/2000/svg\" height=\"24px\"viewBox=\"0 0 24 24\"\n",
              "     width=\"24px\">\n",
              "    <g>\n",
              "        <path d=\"M19 3H5c-1.1 0-2 .9-2 2v14c0 1.1.9 2 2 2h14c1.1 0 2-.9 2-2V5c0-1.1-.9-2-2-2zM9 17H7v-7h2v7zm4 0h-2V7h2v10zm4 0h-2v-4h2v4z\"/>\n",
              "    </g>\n",
              "</svg>\n",
              "  </button>\n",
              "\n",
              "<style>\n",
              "  .colab-df-quickchart {\n",
              "      --bg-color: #E8F0FE;\n",
              "      --fill-color: #1967D2;\n",
              "      --hover-bg-color: #E2EBFA;\n",
              "      --hover-fill-color: #174EA6;\n",
              "      --disabled-fill-color: #AAA;\n",
              "      --disabled-bg-color: #DDD;\n",
              "  }\n",
              "\n",
              "  [theme=dark] .colab-df-quickchart {\n",
              "      --bg-color: #3B4455;\n",
              "      --fill-color: #D2E3FC;\n",
              "      --hover-bg-color: #434B5C;\n",
              "      --hover-fill-color: #FFFFFF;\n",
              "      --disabled-bg-color: #3B4455;\n",
              "      --disabled-fill-color: #666;\n",
              "  }\n",
              "\n",
              "  .colab-df-quickchart {\n",
              "    background-color: var(--bg-color);\n",
              "    border: none;\n",
              "    border-radius: 50%;\n",
              "    cursor: pointer;\n",
              "    display: none;\n",
              "    fill: var(--fill-color);\n",
              "    height: 32px;\n",
              "    padding: 0;\n",
              "    width: 32px;\n",
              "  }\n",
              "\n",
              "  .colab-df-quickchart:hover {\n",
              "    background-color: var(--hover-bg-color);\n",
              "    box-shadow: 0 1px 2px rgba(60, 64, 67, 0.3), 0 1px 3px 1px rgba(60, 64, 67, 0.15);\n",
              "    fill: var(--button-hover-fill-color);\n",
              "  }\n",
              "\n",
              "  .colab-df-quickchart-complete:disabled,\n",
              "  .colab-df-quickchart-complete:disabled:hover {\n",
              "    background-color: var(--disabled-bg-color);\n",
              "    fill: var(--disabled-fill-color);\n",
              "    box-shadow: none;\n",
              "  }\n",
              "\n",
              "  .colab-df-spinner {\n",
              "    border: 2px solid var(--fill-color);\n",
              "    border-color: transparent;\n",
              "    border-bottom-color: var(--fill-color);\n",
              "    animation:\n",
              "      spin 1s steps(1) infinite;\n",
              "  }\n",
              "\n",
              "  @keyframes spin {\n",
              "    0% {\n",
              "      border-color: transparent;\n",
              "      border-bottom-color: var(--fill-color);\n",
              "      border-left-color: var(--fill-color);\n",
              "    }\n",
              "    20% {\n",
              "      border-color: transparent;\n",
              "      border-left-color: var(--fill-color);\n",
              "      border-top-color: var(--fill-color);\n",
              "    }\n",
              "    30% {\n",
              "      border-color: transparent;\n",
              "      border-left-color: var(--fill-color);\n",
              "      border-top-color: var(--fill-color);\n",
              "      border-right-color: var(--fill-color);\n",
              "    }\n",
              "    40% {\n",
              "      border-color: transparent;\n",
              "      border-right-color: var(--fill-color);\n",
              "      border-top-color: var(--fill-color);\n",
              "    }\n",
              "    60% {\n",
              "      border-color: transparent;\n",
              "      border-right-color: var(--fill-color);\n",
              "    }\n",
              "    80% {\n",
              "      border-color: transparent;\n",
              "      border-right-color: var(--fill-color);\n",
              "      border-bottom-color: var(--fill-color);\n",
              "    }\n",
              "    90% {\n",
              "      border-color: transparent;\n",
              "      border-bottom-color: var(--fill-color);\n",
              "    }\n",
              "  }\n",
              "</style>\n",
              "\n",
              "  <script>\n",
              "    async function quickchart(key) {\n",
              "      const quickchartButtonEl =\n",
              "        document.querySelector('#' + key + ' button');\n",
              "      quickchartButtonEl.disabled = true;  // To prevent multiple clicks.\n",
              "      quickchartButtonEl.classList.add('colab-df-spinner');\n",
              "      try {\n",
              "        const charts = await google.colab.kernel.invokeFunction(\n",
              "            'suggestCharts', [key], {});\n",
              "      } catch (error) {\n",
              "        console.error('Error during call to suggestCharts:', error);\n",
              "      }\n",
              "      quickchartButtonEl.classList.remove('colab-df-spinner');\n",
              "      quickchartButtonEl.classList.add('colab-df-quickchart-complete');\n",
              "    }\n",
              "    (() => {\n",
              "      let quickchartButtonEl =\n",
              "        document.querySelector('#df-e8d10b55-e5d7-416c-b31e-81d881af173b button');\n",
              "      quickchartButtonEl.style.display =\n",
              "        google.colab.kernel.accessAllowed ? 'block' : 'none';\n",
              "    })();\n",
              "  </script>\n",
              "</div>\n",
              "\n",
              "    </div>\n",
              "  </div>\n"
            ],
            "text/plain": [
              "     temp  rain_1h  snow_1h  clouds_all           date_time  traffic_volume  \\\n",
              "0  288.28      0.0      0.0          40 2012-10-02 09:00:00            5545   \n",
              "1  289.36      0.0      0.0          75 2012-10-02 10:00:00            4516   \n",
              "2  289.58      0.0      0.0          90 2012-10-02 11:00:00            4767   \n",
              "3  290.13      0.0      0.0          90 2012-10-02 12:00:00            5026   \n",
              "4  291.14      0.0      0.0          75 2012-10-02 13:00:00            4918   \n",
              "\n",
              "   hour  day_of_week  month  weather_main_Clouds  ...  \\\n",
              "0     9            1     10                 True  ...   \n",
              "1    10            1     10                 True  ...   \n",
              "2    11            1     10                 True  ...   \n",
              "3    12            1     10                 True  ...   \n",
              "4    13            1     10                 True  ...   \n",
              "\n",
              "   holiday_Independence Day  holiday_Labor Day  \\\n",
              "0                     False              False   \n",
              "1                     False              False   \n",
              "2                     False              False   \n",
              "3                     False              False   \n",
              "4                     False              False   \n",
              "\n",
              "   holiday_Martin Luther King Jr Day  holiday_Memorial Day  \\\n",
              "0                              False                 False   \n",
              "1                              False                 False   \n",
              "2                              False                 False   \n",
              "3                              False                 False   \n",
              "4                              False                 False   \n",
              "\n",
              "   holiday_New Years Day  holiday_None  holiday_State Fair  \\\n",
              "0                  False          True               False   \n",
              "1                  False          True               False   \n",
              "2                  False          True               False   \n",
              "3                  False          True               False   \n",
              "4                  False          True               False   \n",
              "\n",
              "   holiday_Thanksgiving Day  holiday_Veterans Day  \\\n",
              "0                     False                 False   \n",
              "1                     False                 False   \n",
              "2                     False                 False   \n",
              "3                     False                 False   \n",
              "4                     False                 False   \n",
              "\n",
              "   holiday_Washingtons Birthday  \n",
              "0                         False  \n",
              "1                         False  \n",
              "2                         False  \n",
              "3                         False  \n",
              "4                         False  \n",
              "\n",
              "[5 rows x 67 columns]"
            ]
          },
          "execution_count": 54,
          "metadata": {},
          "output_type": "execute_result"
        }
      ],
      "source": [
        "data.head()"
      ]
    },
    {
      "cell_type": "code",
      "execution_count": null,
      "metadata": {
        "id": "Or9BIkH0Vkk9"
      },
      "outputs": [],
      "source": [
        "data.drop(['date_time'], axis=1, inplace=True)"
      ]
    },
    {
      "cell_type": "code",
      "execution_count": null,
      "metadata": {
        "id": "ASWwY7HWVthG"
      },
      "outputs": [],
      "source": [
        "from sklearn.preprocessing import StandardScaler\n",
        "\n",
        "# Separate features (X) and target (y)\n",
        "X = data.drop('traffic_volume', axis=1)\n",
        "y = data['traffic_volume']\n",
        "\n",
        "# Create a StandardScaler object\n",
        "scaler = StandardScaler()\n",
        "\n",
        "# Fit the scaler to the features and transform them\n",
        "X_scaled = scaler.fit_transform(X)\n",
        "\n",
        "# Convert the scaled features back to a DataFrame\n",
        "X_scaled = pd.DataFrame(X_scaled, columns=X.columns, index=X.index)"
      ]
    },
    {
      "cell_type": "markdown",
      "metadata": {
        "id": "akXAXI99WL5S"
      },
      "source": [
        "Model 1 Random Forest Model\n"
      ]
    },
    {
      "cell_type": "code",
      "execution_count": null,
      "metadata": {
        "colab": {
          "base_uri": "https://localhost:8080/"
        },
        "id": "jxZryQizV5n1",
        "outputId": "17284767-062f-4730-be51-e46937579be9"
      },
      "outputs": [
        {
          "name": "stdout",
          "output_type": "stream",
          "text": [
            "Random Forest MAE: 255.65540887874698\n",
            "Random Forest RMSE: 459.89892285625933\n",
            "Random Forest R2: 0.9465015065501668\n"
          ]
        }
      ],
      "source": [
        "from sklearn.model_selection import train_test_split\n",
        "from sklearn.ensemble import RandomForestRegressor\n",
        "from sklearn.metrics import mean_absolute_error, mean_squared_error, r2_score\n",
        "\n",
        "# Split the data into training and testing sets\n",
        "X_train, X_test, y_train, y_test = train_test_split(X_scaled, y, test_size=0.2, random_state=42)\n",
        "\n",
        "# Create and train the Random Forest model\n",
        "rf_model = RandomForestRegressor(n_estimators=100, random_state=42)\n",
        "rf_model.fit(X_train, y_train)\n",
        "\n",
        "# Make predictions on the test set\n",
        "y_pred = rf_model.predict(X_test)\n",
        "\n",
        "# Evaluate the model\n",
        "print('Random Forest MAE:', mean_absolute_error(y_test, y_pred))\n",
        "print('Random Forest RMSE:', np.sqrt(mean_squared_error(y_test, y_pred)))\n",
        "print('Random Forest R2:', r2_score(y_test, y_pred))"
      ]
    },
    {
      "cell_type": "markdown",
      "metadata": {
        "id": "t5szvjZMTFty"
      },
      "source": [
        "Evaluate Random Forest Model"
      ]
    },
    {
      "cell_type": "markdown",
      "metadata": {
        "id": "-zvfaqrlTKw1"
      },
      "source": [
        "XGBoost Model"
      ]
    },
    {
      "cell_type": "code",
      "execution_count": null,
      "metadata": {
        "id": "kB1RrCURTNIa"
      },
      "outputs": [],
      "source": [
        "xgb_model = XGBRegressor(n_estimators=100, learning_rate=0.1, random_state=42)\n",
        "xgb_model.fit(X_train, y_train)\n",
        "y_pred_xgb = xgb_model.predict(X_test)"
      ]
    },
    {
      "cell_type": "code",
      "execution_count": null,
      "metadata": {
        "colab": {
          "base_uri": "https://localhost:8080/"
        },
        "id": "EqzUY26uWexh",
        "outputId": "eca30c3a-bc2e-4c3a-9964-a36197e6db29"
      },
      "outputs": [
        {
          "name": "stdout",
          "output_type": "stream",
          "text": [
            "XGBoost MAE: 259.28033447265625\n",
            "XGBoost RMSE: 447.0364218942345\n",
            "XGBoost R2: 0.9494521617889404\n"
          ]
        }
      ],
      "source": [
        "print('XGBoost MAE:', mean_absolute_error(y_test, y_pred_xgb))\n",
        "print('XGBoost RMSE:', np.sqrt(mean_squared_error(y_test, y_pred_xgb)))\n",
        "print('XGBoost R2:', r2_score(y_test, y_pred_xgb))"
      ]
    },
    {
      "cell_type": "markdown",
      "metadata": {
        "id": "z6atOMYrW1yZ"
      },
      "source": [
        "Hyperparameter tuning"
      ]
    },
    {
      "cell_type": "code",
      "execution_count": null,
      "metadata": {
        "colab": {
          "background_save": true,
          "base_uri": "https://localhost:8080/"
        },
        "id": "cDBQ-FDSW4te",
        "outputId": "08aa47a3-507b-4160-a472-847eb372db50"
      },
      "outputs": [
        {
          "name": "stdout",
          "output_type": "stream",
          "text": [
            "Fitting 5 folds for each of 27 candidates, totalling 135 fits\n",
            "[CV] END ...learning_rate=0.01, max_depth=3, n_estimators=50; total time=   0.4s\n",
            "[CV] END ...learning_rate=0.01, max_depth=3, n_estimators=50; total time=   0.4s\n",
            "[CV] END ...learning_rate=0.01, max_depth=3, n_estimators=50; total time=   0.4s\n",
            "[CV] END ...learning_rate=0.01, max_depth=3, n_estimators=50; total time=   0.4s\n",
            "[CV] END ...learning_rate=0.01, max_depth=3, n_estimators=50; total time=   0.4s\n",
            "[CV] END ..learning_rate=0.01, max_depth=3, n_estimators=100; total time=   0.6s\n",
            "[CV] END ..learning_rate=0.01, max_depth=3, n_estimators=100; total time=   0.6s\n",
            "[CV] END ..learning_rate=0.01, max_depth=3, n_estimators=100; total time=   0.6s\n",
            "[CV] END ..learning_rate=0.01, max_depth=3, n_estimators=100; total time=   0.6s\n",
            "[CV] END ..learning_rate=0.01, max_depth=3, n_estimators=100; total time=   0.6s\n",
            "[CV] END ..learning_rate=0.01, max_depth=3, n_estimators=200; total time=   0.9s\n",
            "[CV] END ..learning_rate=0.01, max_depth=3, n_estimators=200; total time=   1.2s\n",
            "[CV] END ..learning_rate=0.01, max_depth=3, n_estimators=200; total time=   1.2s\n",
            "[CV] END ..learning_rate=0.01, max_depth=3, n_estimators=200; total time=   2.6s\n",
            "[CV] END ..learning_rate=0.01, max_depth=3, n_estimators=200; total time=   1.1s\n",
            "[CV] END ...learning_rate=0.01, max_depth=5, n_estimators=50; total time=   0.5s\n",
            "[CV] END ...learning_rate=0.01, max_depth=5, n_estimators=50; total time=   0.5s\n",
            "[CV] END ...learning_rate=0.01, max_depth=5, n_estimators=50; total time=   0.5s\n",
            "[CV] END ...learning_rate=0.01, max_depth=5, n_estimators=50; total time=   0.5s\n",
            "[CV] END ...learning_rate=0.01, max_depth=5, n_estimators=50; total time=   0.5s\n",
            "[CV] END ..learning_rate=0.01, max_depth=5, n_estimators=100; total time=   0.8s\n",
            "[CV] END ..learning_rate=0.01, max_depth=5, n_estimators=100; total time=   0.8s\n",
            "[CV] END ..learning_rate=0.01, max_depth=5, n_estimators=100; total time=   0.8s\n",
            "[CV] END ..learning_rate=0.01, max_depth=5, n_estimators=100; total time=   0.8s\n",
            "[CV] END ..learning_rate=0.01, max_depth=5, n_estimators=100; total time=   0.8s\n",
            "[CV] END ..learning_rate=0.01, max_depth=5, n_estimators=200; total time=   1.3s\n",
            "[CV] END ..learning_rate=0.01, max_depth=5, n_estimators=200; total time=   1.7s\n",
            "[CV] END ..learning_rate=0.01, max_depth=5, n_estimators=200; total time=   2.7s\n",
            "[CV] END ..learning_rate=0.01, max_depth=5, n_estimators=200; total time=   1.3s\n",
            "[CV] END ..learning_rate=0.01, max_depth=5, n_estimators=200; total time=   1.3s\n",
            "[CV] END ...learning_rate=0.01, max_depth=7, n_estimators=50; total time=   0.6s\n",
            "[CV] END ...learning_rate=0.01, max_depth=7, n_estimators=50; total time=   0.6s\n",
            "[CV] END ...learning_rate=0.01, max_depth=7, n_estimators=50; total time=   0.6s\n",
            "[CV] END ...learning_rate=0.01, max_depth=7, n_estimators=50; total time=   0.6s\n",
            "[CV] END ...learning_rate=0.01, max_depth=7, n_estimators=50; total time=   0.6s\n",
            "[CV] END ..learning_rate=0.01, max_depth=7, n_estimators=100; total time=   1.3s\n",
            "[CV] END ..learning_rate=0.01, max_depth=7, n_estimators=100; total time=   1.0s\n",
            "[CV] END ..learning_rate=0.01, max_depth=7, n_estimators=100; total time=   1.0s\n",
            "[CV] END ..learning_rate=0.01, max_depth=7, n_estimators=100; total time=   2.9s\n",
            "[CV] END ..learning_rate=0.01, max_depth=7, n_estimators=100; total time=   1.0s\n",
            "[CV] END ..learning_rate=0.01, max_depth=7, n_estimators=200; total time=   1.8s\n",
            "[CV] END ..learning_rate=0.01, max_depth=7, n_estimators=200; total time=   1.9s\n",
            "[CV] END ..learning_rate=0.01, max_depth=7, n_estimators=200; total time=   1.9s\n",
            "[CV] END ..learning_rate=0.01, max_depth=7, n_estimators=200; total time=   1.9s\n",
            "[CV] END ..learning_rate=0.01, max_depth=7, n_estimators=200; total time=   3.7s\n",
            "[CV] END ....learning_rate=0.1, max_depth=3, n_estimators=50; total time=   0.4s\n",
            "[CV] END ....learning_rate=0.1, max_depth=3, n_estimators=50; total time=   0.4s\n",
            "[CV] END ....learning_rate=0.1, max_depth=3, n_estimators=50; total time=   0.4s\n",
            "[CV] END ....learning_rate=0.1, max_depth=3, n_estimators=50; total time=   0.4s\n",
            "[CV] END ....learning_rate=0.1, max_depth=3, n_estimators=50; total time=   0.4s\n",
            "[CV] END ...learning_rate=0.1, max_depth=3, n_estimators=100; total time=   0.6s\n",
            "[CV] END ...learning_rate=0.1, max_depth=3, n_estimators=100; total time=   0.5s\n",
            "[CV] END ...learning_rate=0.1, max_depth=3, n_estimators=100; total time=   0.6s\n",
            "[CV] END ...learning_rate=0.1, max_depth=3, n_estimators=100; total time=   0.5s\n",
            "[CV] END ...learning_rate=0.1, max_depth=3, n_estimators=100; total time=   0.6s\n",
            "[CV] END ...learning_rate=0.1, max_depth=3, n_estimators=200; total time=   0.9s\n",
            "[CV] END ...learning_rate=0.1, max_depth=3, n_estimators=200; total time=   1.1s\n",
            "[CV] END ...learning_rate=0.1, max_depth=3, n_estimators=200; total time=   0.9s\n",
            "[CV] END ...learning_rate=0.1, max_depth=3, n_estimators=200; total time=   0.9s\n",
            "[CV] END ...learning_rate=0.1, max_depth=3, n_estimators=200; total time=   0.8s\n",
            "[CV] END ....learning_rate=0.1, max_depth=5, n_estimators=50; total time=   0.5s\n",
            "[CV] END ....learning_rate=0.1, max_depth=5, n_estimators=50; total time=   1.3s\n",
            "[CV] END ....learning_rate=0.1, max_depth=5, n_estimators=50; total time=   1.3s\n",
            "[CV] END ....learning_rate=0.1, max_depth=5, n_estimators=50; total time=   0.5s\n",
            "[CV] END ....learning_rate=0.1, max_depth=5, n_estimators=50; total time=   0.5s\n",
            "[CV] END ...learning_rate=0.1, max_depth=5, n_estimators=100; total time=   0.7s\n",
            "[CV] END ...learning_rate=0.1, max_depth=5, n_estimators=100; total time=   0.7s\n",
            "[CV] END ...learning_rate=0.1, max_depth=5, n_estimators=100; total time=   0.9s\n",
            "[CV] END ...learning_rate=0.1, max_depth=5, n_estimators=100; total time=   0.7s\n",
            "[CV] END ...learning_rate=0.1, max_depth=5, n_estimators=100; total time=   0.7s\n",
            "[CV] END ...learning_rate=0.1, max_depth=5, n_estimators=200; total time=   1.1s\n",
            "[CV] END ...learning_rate=0.1, max_depth=5, n_estimators=200; total time=   1.7s\n",
            "[CV] END ...learning_rate=0.1, max_depth=5, n_estimators=200; total time=   1.2s\n",
            "[CV] END ...learning_rate=0.1, max_depth=5, n_estimators=200; total time=   1.2s\n",
            "[CV] END ...learning_rate=0.1, max_depth=5, n_estimators=200; total time=   2.8s\n",
            "[CV] END ....learning_rate=0.1, max_depth=7, n_estimators=50; total time=   0.6s\n",
            "[CV] END ....learning_rate=0.1, max_depth=7, n_estimators=50; total time=   0.6s\n",
            "[CV] END ....learning_rate=0.1, max_depth=7, n_estimators=50; total time=   0.6s\n",
            "[CV] END ....learning_rate=0.1, max_depth=7, n_estimators=50; total time=   0.6s\n",
            "[CV] END ....learning_rate=0.1, max_depth=7, n_estimators=50; total time=   0.6s\n",
            "[CV] END ...learning_rate=0.1, max_depth=7, n_estimators=100; total time=   0.9s\n",
            "[CV] END ...learning_rate=0.1, max_depth=7, n_estimators=100; total time=   0.9s\n",
            "[CV] END ...learning_rate=0.1, max_depth=7, n_estimators=100; total time=   0.9s\n",
            "[CV] END ...learning_rate=0.1, max_depth=7, n_estimators=100; total time=   1.1s\n",
            "[CV] END ...learning_rate=0.1, max_depth=7, n_estimators=100; total time=   0.9s\n",
            "[CV] END ...learning_rate=0.1, max_depth=7, n_estimators=200; total time=   1.4s\n",
            "[CV] END ...learning_rate=0.1, max_depth=7, n_estimators=200; total time=   3.1s\n",
            "[CV] END ...learning_rate=0.1, max_depth=7, n_estimators=200; total time=   1.5s\n",
            "[CV] END ...learning_rate=0.1, max_depth=7, n_estimators=200; total time=   1.4s\n",
            "[CV] END ...learning_rate=0.1, max_depth=7, n_estimators=200; total time=   1.4s\n",
            "[CV] END ....learning_rate=0.2, max_depth=3, n_estimators=50; total time=   0.4s\n",
            "[CV] END ....learning_rate=0.2, max_depth=3, n_estimators=50; total time=   0.4s\n",
            "[CV] END ....learning_rate=0.2, max_depth=3, n_estimators=50; total time=   0.4s\n",
            "[CV] END ....learning_rate=0.2, max_depth=3, n_estimators=50; total time=   0.4s\n",
            "[CV] END ....learning_rate=0.2, max_depth=3, n_estimators=50; total time=   0.4s\n",
            "[CV] END ...learning_rate=0.2, max_depth=3, n_estimators=100; total time=   0.5s\n",
            "[CV] END ...learning_rate=0.2, max_depth=3, n_estimators=100; total time=   0.5s\n",
            "[CV] END ...learning_rate=0.2, max_depth=3, n_estimators=100; total time=   0.5s\n",
            "[CV] END ...learning_rate=0.2, max_depth=3, n_estimators=100; total time=   0.5s\n",
            "[CV] END ...learning_rate=0.2, max_depth=3, n_estimators=100; total time=   0.5s\n",
            "[CV] END ...learning_rate=0.2, max_depth=3, n_estimators=200; total time=   0.8s\n",
            "[CV] END ...learning_rate=0.2, max_depth=3, n_estimators=200; total time=   2.5s\n",
            "[CV] END ...learning_rate=0.2, max_depth=3, n_estimators=200; total time=   0.8s\n",
            "[CV] END ...learning_rate=0.2, max_depth=3, n_estimators=200; total time=   0.8s\n",
            "[CV] END ...learning_rate=0.2, max_depth=3, n_estimators=200; total time=   0.8s\n",
            "[CV] END ....learning_rate=0.2, max_depth=5, n_estimators=50; total time=   0.5s\n",
            "[CV] END ....learning_rate=0.2, max_depth=5, n_estimators=50; total time=   0.4s\n",
            "[CV] END ....learning_rate=0.2, max_depth=5, n_estimators=50; total time=   0.5s\n",
            "[CV] END ....learning_rate=0.2, max_depth=5, n_estimators=50; total time=   0.5s\n",
            "[CV] END ....learning_rate=0.2, max_depth=5, n_estimators=50; total time=   0.5s\n",
            "[CV] END ...learning_rate=0.2, max_depth=5, n_estimators=100; total time=   0.6s\n",
            "[CV] END ...learning_rate=0.2, max_depth=5, n_estimators=100; total time=   0.6s\n",
            "[CV] END ...learning_rate=0.2, max_depth=5, n_estimators=100; total time=   0.7s\n",
            "[CV] END ...learning_rate=0.2, max_depth=5, n_estimators=100; total time=   0.6s\n",
            "[CV] END ...learning_rate=0.2, max_depth=5, n_estimators=100; total time=   0.7s\n",
            "[CV] END ...learning_rate=0.2, max_depth=5, n_estimators=200; total time=   1.0s\n",
            "[CV] END ...learning_rate=0.2, max_depth=5, n_estimators=200; total time=   1.4s\n",
            "[CV] END ...learning_rate=0.2, max_depth=5, n_estimators=200; total time=   2.1s\n",
            "[CV] END ...learning_rate=0.2, max_depth=5, n_estimators=200; total time=   1.1s\n",
            "[CV] END ...learning_rate=0.2, max_depth=5, n_estimators=200; total time=   1.0s\n",
            "[CV] END ....learning_rate=0.2, max_depth=7, n_estimators=50; total time=   0.6s\n",
            "[CV] END ....learning_rate=0.2, max_depth=7, n_estimators=50; total time=   0.5s\n",
            "[CV] END ....learning_rate=0.2, max_depth=7, n_estimators=50; total time=   0.6s\n",
            "[CV] END ....learning_rate=0.2, max_depth=7, n_estimators=50; total time=   0.5s\n",
            "[CV] END ....learning_rate=0.2, max_depth=7, n_estimators=50; total time=   0.6s\n",
            "[CV] END ...learning_rate=0.2, max_depth=7, n_estimators=100; total time=   0.8s\n",
            "[CV] END ...learning_rate=0.2, max_depth=7, n_estimators=100; total time=   0.8s\n",
            "[CV] END ...learning_rate=0.2, max_depth=7, n_estimators=100; total time=   0.8s\n",
            "[CV] END ...learning_rate=0.2, max_depth=7, n_estimators=100; total time=   0.8s\n",
            "[CV] END ...learning_rate=0.2, max_depth=7, n_estimators=100; total time=   0.8s\n",
            "[CV] END ...learning_rate=0.2, max_depth=7, n_estimators=200; total time=   3.0s\n",
            "[CV] END ...learning_rate=0.2, max_depth=7, n_estimators=200; total time=   1.3s\n",
            "[CV] END ...learning_rate=0.2, max_depth=7, n_estimators=200; total time=   1.3s\n",
            "[CV] END ...learning_rate=0.2, max_depth=7, n_estimators=200; total time=   1.4s\n",
            "[CV] END ...learning_rate=0.2, max_depth=7, n_estimators=200; total time=   1.4s\n",
            "Best parameters: {'learning_rate': 0.2, 'max_depth': 7, 'n_estimators': 200}\n",
            "XGBoost MAE: 243.28073120117188\n",
            "XGBoost RMSE: 416.3137150935578\n",
            "XGBoost R2: 0.9561612606048584\n"
          ]
        }
      ],
      "source": [
        "from sklearn.model_selection import GridSearchCV\n",
        "from xgboost import XGBRegressor\n",
        "\n",
        "# Define the parameter grid\n",
        "param_grid = {\n",
        "    'n_estimators': [50, 100, 200],\n",
        "    'learning_rate': [0.01, 0.1, 0.2],\n",
        "    'max_depth': [3, 5, 7]\n",
        "}\n",
        "\n",
        "# Create the GridSearchCV object\n",
        "grid_search = GridSearchCV(estimator=XGBRegressor(random_state=42),\n",
        "                           param_grid=param_grid,\n",
        "                           scoring='neg_mean_squared_error',\n",
        "                           cv=5,\n",
        "                           verbose=2)\n",
        "\n",
        "# Fit the grid search to the data\n",
        "grid_search.fit(X_train, y_train)\n",
        "\n",
        "# Get the best parameters\n",
        "best_params = grid_search.best_params_\n",
        "print(\"Best parameters:\", best_params)\n",
        "\n",
        "# Train the model with the best parameters\n",
        "best_xgb_model = XGBRegressor(**best_params, random_state=42)\n",
        "best_xgb_model.fit(X_train, y_train)\n",
        "\n",
        "# Evaluate the model\n",
        "y_pred_xgb = best_xgb_model.predict(X_test)\n",
        "print('XGBoost MAE:', mean_absolute_error(y_test, y_pred_xgb))\n",
        "print('XGBoost RMSE:', np.sqrt(mean_squared_error(y_test, y_pred_xgb)))\n",
        "print('XGBoost R2:', r2_score(y_test, y_pred_xgb))"
      ]
    },
    {
      "cell_type": "markdown",
      "metadata": {
        "id": "IU3eB5T7XKQ7"
      },
      "source": [
        "LSTM Model Preparation"
      ]
    },
    {
      "cell_type": "code",
      "execution_count": null,
      "metadata": {
        "colab": {
          "background_save": true
        },
        "id": "46hjdeNwXMTr"
      },
      "outputs": [],
      "source": [
        "X_train_lstm = X_train.values.reshape((X_train.shape[0], 1, X_train.shape[1]))\n",
        "X_test_lstm = X_test.values.reshape((X_test.shape[0], 1, X_test.shape[1]))"
      ]
    },
    {
      "cell_type": "markdown",
      "metadata": {
        "id": "IPXPKQ8nXwYG"
      },
      "source": [
        "Build LSTM Model"
      ]
    },
    {
      "cell_type": "code",
      "execution_count": null,
      "metadata": {
        "colab": {
          "background_save": true
        },
        "id": "seEL9vZDXxHR"
      },
      "outputs": [],
      "source": [
        "from tensorflow.keras.layers import Input\n",
        "# Build LSTM Model\n",
        "lstm_model = Sequential()\n",
        "lstm_model.add(Input(shape=(1, X_train.shape[1])))\n",
        "lstm_model.add(LSTM(50, activation='relu'))\n",
        "lstm_model.add(Dense(1))\n",
        "lstm_model.compile(optimizer='adam', loss='mse')\n"
      ]
    },
    {
      "cell_type": "markdown",
      "metadata": {
        "id": "kvXtpE_6YCUW"
      },
      "source": [
        "Train LSTM Model"
      ]
    },
    {
      "cell_type": "code",
      "execution_count": null,
      "metadata": {
        "id": "yw-1-uMVYC2y"
      },
      "outputs": [],
      "source": [
        "history = lstm_model.fit(X_train_lstm, y_train, epochs=50, validation_split=0.2, verbose=1)"
      ]
    },
    {
      "cell_type": "markdown",
      "metadata": {
        "id": "-azYJprWYJae"
      },
      "source": [
        "Plot LSTM Training Loss"
      ]
    },
    {
      "cell_type": "code",
      "execution_count": null,
      "metadata": {
        "id": "O4shPR_-YKTV"
      },
      "outputs": [],
      "source": [
        "plt.figure(figsize=(10, 6))\n",
        "plt.plot(history.history['loss'], label='Training Loss')\n",
        "plt.plot(history.history['val_loss'], label='Validation Loss')\n",
        "plt.title('LSTM Training and Validation Loss')\n",
        "plt.xlabel('Epochs')\n",
        "plt.ylabel('Loss')\n",
        "plt.legend()\n",
        "plt.show()"
      ]
    },
    {
      "cell_type": "markdown",
      "metadata": {
        "id": "GKofBxmSYRWH"
      },
      "source": [
        "Evaluate LSTM Model"
      ]
    },
    {
      "cell_type": "code",
      "execution_count": null,
      "metadata": {
        "id": "vcykPn3CYSRt"
      },
      "outputs": [],
      "source": [
        "y_pred_lstm = lstm_model.predict(X_test_lstm)\n",
        "print('LSTM MAE:', mean_absolute_error(y_test, y_pred_lstm))\n",
        "print('LSTM RMSE:', np.sqrt(mean_squared_error(y_test, y_pred_lstm)))\n",
        "print('LSTM R2:', r2_score(y_test, y_pred_lstm))"
      ]
    },
    {
      "cell_type": "markdown",
      "metadata": {
        "id": "f1KFb0RjYU_Q"
      },
      "source": [
        "Compare Model Performance"
      ]
    },
    {
      "cell_type": "code",
      "execution_count": null,
      "metadata": {
        "id": "7y_9dyAlYxhV"
      },
      "outputs": [],
      "source": [
        "models = ['Random Forest', 'XGBoost', 'LSTM']\n",
        "mae_scores = [mean_absolute_error(y_test, y_pred), mean_absolute_error(y_test, y_pred_xgb), mean_absolute_error(y_test, y_pred_lstm)]\n",
        "plt.figure(figsize=(10, 6))\n",
        "sns.barplot(x=models, y=mae_scores)\n",
        "plt.title('Model Comparison - MAE')\n",
        "plt.xlabel('Model')\n",
        "plt.ylabel('MAE')\n",
        "plt.show()"
      ]
    },
    {
      "cell_type": "markdown",
      "metadata": {
        "id": "hJAmuOiLYzm8"
      },
      "source": [
        "Feature Importance - Random Forest"
      ]
    },
    {
      "cell_type": "code",
      "execution_count": null,
      "metadata": {
        "id": "xtUZE2__Y2aR"
      },
      "outputs": [],
      "source": [
        "importances = rf_model.feature_importances_\n",
        "feature_names = X.columns\n",
        "plt.figure(figsize=(12, 8))\n",
        "sns.barplot(x=importances, y=feature_names)\n",
        "plt.title('Feature Importance - Random Forest')\n",
        "plt.xlabel('Importance')\n",
        "plt.ylabel('Feature')\n",
        "plt.show()"
      ]
    }
  ],
  "metadata": {
    "colab": {
      "provenance": []
    },
    "kernelspec": {
      "display_name": "Python 3",
      "name": "python3"
    },
    "language_info": {
      "name": "python"
    }
  },
  "nbformat": 4,
  "nbformat_minor": 0
}